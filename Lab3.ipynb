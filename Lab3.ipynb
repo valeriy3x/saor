{
 "cells": [
  {
   "cell_type": "code",
   "execution_count": 5,
   "id": "c0fa1115",
   "metadata": {},
   "outputs": [],
   "source": [
    "import numpy as np"
   ]
  },
  {
   "cell_type": "code",
   "execution_count": 31,
   "id": "add933d2",
   "metadata": {},
   "outputs": [],
   "source": [
    "n = 3\n",
    "Q = 3\n",
    "\n",
    "# A = np.array([\n",
    "#     [0, 1, 2, 3],\n",
    "#     [0, 0, 1, 2],\n",
    "#     [0, 2, 2, 3]\n",
    "# ])\n",
    "\n",
    "A = np.array([\n",
    "    [0, 0, 0, 0],\n",
    "    [0, 0, 0, 0],\n",
    "    [0, 0, 1, 0]\n",
    "])"
   ]
  },
  {
   "cell_type": "code",
   "execution_count": 32,
   "id": "2629441e",
   "metadata": {},
   "outputs": [],
   "source": [
    "class ResourceAllocationSolver:\n",
    "    \n",
    "    def solve(self, revenue_matrix, resources_count, agents_count):\n",
    "        n, m = len(revenue_matrix), len(revenue_matrix[0])\n",
    "        opt_matrix = np.zeros((n, m))\n",
    "        X = np.zeros((n, m))\n",
    "        \n",
    "        for index, item in enumerate(revenue_matrix[0]):\n",
    "            opt_matrix[0][index] = item\n",
    "            X[0][index] = item\n",
    "        \n",
    "        current_agent = 1\n",
    "        \n",
    "        while current_agent < agents_count:\n",
    "            for q in range(resources_count + 1):\n",
    "                combinations = self.get_combinations(q)\n",
    "                potential_revenues_list = []\n",
    "                \n",
    "                for tup in combinations:\n",
    "                    first_index, second_index = tup\n",
    "            \n",
    "                    potential_revenues_list.append(opt_matrix[current_agent - 1][first_index] + \\\n",
    "                                                   revenue_matrix[current_agent][second_index])\n",
    "                \n",
    "                \n",
    "                max_value = max(potential_revenues_list)\n",
    "                opt_matrix[current_agent][q] = max_value\n",
    "                max_value_index = potential_revenues_list.index(max_value)\n",
    "                \n",
    "                X[current_agent][q] = combinations[max_value_index][1]\n",
    "                \n",
    "            \n",
    "            current_agent += 1\n",
    "        \n",
    "        solution = np.zeros(n)\n",
    "        resources_left = resources_count\n",
    "        \n",
    "        for k in reversed(range(agents_count)):\n",
    "            m = int(resources_left)\n",
    "            current = X[k][m]\n",
    "            solution[k] = current\n",
    "            resources_left -= current\n",
    "        \n",
    "        if resources_left > 0 and solution[0] == 0:\n",
    "            solution[0] = resources_left\n",
    "        \n",
    "        return solution, opt_matrix, X\n",
    "        \n",
    "    @staticmethod\n",
    "    def get_combinations(num):\n",
    "        combinations = []\n",
    "        for item in reversed(range(num + 1)):\n",
    "            combinations.append((item, num - item))\n",
    "        \n",
    "        return combinations"
   ]
  },
  {
   "cell_type": "code",
   "execution_count": 33,
   "id": "8de37471",
   "metadata": {},
   "outputs": [
    {
     "name": "stdout",
     "output_type": "stream",
     "text": [
      "Solution:\n",
      "[1. 0. 2.]\n",
      "\n",
      "OPT matrix:\n",
      "[[0. 0. 0. 0.]\n",
      " [0. 0. 0. 0.]\n",
      " [0. 0. 1. 1.]]\n",
      "\n",
      "Max revenue:\n",
      "1.0\n",
      "\n",
      "X matrix:\n",
      "[[0. 0. 0. 0.]\n",
      " [0. 0. 0. 0.]\n",
      " [0. 0. 2. 2.]]\n",
      "\n"
     ]
    }
   ],
   "source": [
    "solver = ResourceAllocationSolver()\n",
    "solution, OPT, X = solver.solve(A, Q, n)\n",
    "\n",
    "print(f'Solution:\\n{solution}\\n')\n",
    "print(f'OPT matrix:\\n{OPT}\\n')\n",
    "print(f'Max revenue:\\n{np.max(OPT)}\\n')\n",
    "print(f'X matrix:\\n{X}\\n')"
   ]
  },
  {
   "cell_type": "code",
   "execution_count": null,
   "id": "a1eca029",
   "metadata": {},
   "outputs": [],
   "source": []
  }
 ],
 "metadata": {
  "kernelspec": {
   "display_name": "Python 3 (ipykernel)",
   "language": "python",
   "name": "python3"
  },
  "language_info": {
   "codemirror_mode": {
    "name": "ipython",
    "version": 3
   },
   "file_extension": ".py",
   "mimetype": "text/x-python",
   "name": "python",
   "nbconvert_exporter": "python",
   "pygments_lexer": "ipython3",
   "version": "3.9.7"
  }
 },
 "nbformat": 4,
 "nbformat_minor": 5
}
