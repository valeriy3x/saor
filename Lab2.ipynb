{
 "cells": [
  {
   "cell_type": "code",
   "execution_count": 23,
   "id": "1af39699",
   "metadata": {},
   "outputs": [],
   "source": [
    "import numpy as np\n",
    "import simplex\n",
    "from copy import copy"
   ]
  },
  {
   "cell_type": "code",
   "execution_count": 24,
   "id": "91364961",
   "metadata": {},
   "outputs": [],
   "source": [
    "def is_integer(x, eps=10 ** (-10)):\n",
    "    return abs(x - round(x)) <= eps"
   ]
  },
  {
   "cell_type": "code",
   "execution_count": 25,
   "id": "e34b8930",
   "metadata": {},
   "outputs": [],
   "source": [
    "def gomori(A, b, c):\n",
    "    A_in = np.copy(A)\n",
    "    b_in = copy(b)\n",
    "    c_in = np.copy(c)\n",
    "    initial_len = None\n",
    "    \n",
    "    while True:\n",
    "        # Get real solution using simplex method\n",
    "        \n",
    "        real_solution, basis_indices = simplex.solve(A_in, b_in, c_in)\n",
    "\n",
    "        if real_solution == None:\n",
    "            return \"No Integer Solution\"\n",
    "        \n",
    "        # Check if all values of solution are integers\n",
    "        \n",
    "        if all(is_integer(val) for val in real_solution):\n",
    "            if (initial_len != None):\n",
    "                real_solution = real_solution[:initial_len]\n",
    "            return real_solution\n",
    "        else:\n",
    "            if (initial_len == None):\n",
    "                initial_len = len(real_solution)\n",
    "                \n",
    "            k, x_k = None, -np.inf \n",
    "            \n",
    "            for index, item in enumerate(real_solution):\n",
    "                if not is_integer(item) and index in basis_indices and np.modf(item)[0] > x_k:\n",
    "                    k, x_k = index, item\n",
    "            \n",
    "            k = basis_indices.index(k)\n",
    "        \n",
    "        # Fill A_b and A_0 matrix\n",
    "        m = len(basis_indices)\n",
    "        n = len(b_in)\n",
    "        J = [i for i in range(len(c_in))]\n",
    "        non_basis_indices = [i for i in set(J).difference(basis_indices)]\n",
    "        m_0 = len(non_basis_indices)\n",
    "        \n",
    "        A_b = np.zeros((n, m))\n",
    "        A_0 = np.zeros((n, m_0))\n",
    "        \n",
    "        for i, j in enumerate(basis_indices):\n",
    "            A_b[:, i] = A_in[:, j]\n",
    "            \n",
    "        for i, j in enumerate(non_basis_indices):\n",
    "            A_0[:, i] = A_in[:, j]\n",
    "         \n",
    "        # Invert A_b matrix\n",
    "        A_b = np.linalg.inv(A_b)\n",
    "        \n",
    "        # Multiply A_b and A_0\n",
    "        M = A_b.dot(A_0)\n",
    "        \n",
    "        # Get vector l, fill new var\n",
    "        l = M[k]\n",
    "        \n",
    "        c_in = np.append(c_in, 0)\n",
    "        row = np.array([])\n",
    "        shiish = 0\n",
    "        \n",
    "        for index in J:\n",
    "            if index in non_basis_indices:\n",
    "                row = np.append(row, l[shiish])\n",
    "                shiish += 1\n",
    "            else:\n",
    "                row = np.append(row, 0)\n",
    "        \n",
    "        A_in = np.append(A_in, [row], axis=0)\n",
    "        \n",
    "        len_A = len(A_in)\n",
    "        column = np.zeros(len_A)\n",
    "        column[len_A - 1] = -1\n",
    "        \n",
    "        new_var_col = [[i] for i in column]\n",
    "        A_in = np.append(A_in, new_var_col, axis=1)\n",
    "        b_in.append(np.modf(x_k)[0])"
   ]
  },
  {
   "cell_type": "code",
   "execution_count": 26,
   "id": "98fb2c3d",
   "metadata": {},
   "outputs": [],
   "source": [
    "A = np.array([\n",
    "    [-4, 6, 1, 0],\n",
    "    [1, 1, 0, 1]\n",
    "])\n",
    "b = [9, 4]\n",
    "c = np.array([-1, 2, 0, 0])"
   ]
  },
  {
   "cell_type": "code",
   "execution_count": 27,
   "id": "f1172497",
   "metadata": {},
   "outputs": [
    {
     "name": "stdout",
     "output_type": "stream",
     "text": [
      "Result:\n",
      "Solution x: (1, 2, 0, 1)\n"
     ]
    }
   ],
   "source": [
    "print('Result:')\n",
    "sol = gomori(A, b, c)\n",
    "\n",
    "if isinstance(sol, str):\n",
    "    print(sol)\n",
    "else:\n",
    "    formatted_sol = ', '.join(map(str, map(int, sol)))\n",
    "    print('Solution x: ', end='')\n",
    "    print(f'({formatted_sol})')"
   ]
  },
  {
   "cell_type": "code",
   "execution_count": null,
   "id": "7e5fecf5",
   "metadata": {},
   "outputs": [],
   "source": []
  }
 ],
 "metadata": {
  "kernelspec": {
   "display_name": "Python 3 (ipykernel)",
   "language": "python",
   "name": "python3"
  },
  "language_info": {
   "codemirror_mode": {
    "name": "ipython",
    "version": 3
   },
   "file_extension": ".py",
   "mimetype": "text/x-python",
   "name": "python",
   "nbconvert_exporter": "python",
   "pygments_lexer": "ipython3",
   "version": "3.9.7"
  }
 },
 "nbformat": 4,
 "nbformat_minor": 5
}
