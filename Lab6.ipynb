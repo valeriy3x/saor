{
 "cells": [
  {
   "cell_type": "code",
   "execution_count": 2,
   "id": "113d469a",
   "metadata": {},
   "outputs": [],
   "source": [
    "import numpy as np"
   ]
  },
  {
   "cell_type": "code",
   "execution_count": 3,
   "id": "36e34661",
   "metadata": {},
   "outputs": [],
   "source": [
    "class DijkstraSolver:\n",
    "    def __init__(self, graph):\n",
    "        self.graph = graph\n",
    "        self.vertex_count = len(graph)\n",
    "        \n",
    "    def get_adjacent_v(self, vertex):\n",
    "        adjacent_verts = []\n",
    "        for index, _vertex in enumerate(self.graph[vertex]):\n",
    "            if _vertex > 0:\n",
    "                adjacent_verts.append(index)\n",
    "                \n",
    "        return adjacent_verts\n",
    "    \n",
    "    def get_next_vertex(self, result, visited):\n",
    "        v_min = None\n",
    "        _max = max(result)\n",
    "        for index, weight in enumerate(result):\n",
    "            if weight < _max and not visited[index]:\n",
    "                _max = weight\n",
    "                v_min = index\n",
    "        \n",
    "        return v_min\n",
    "        \n",
    "    def solve(self):\n",
    "        current_vertex = 0\n",
    "        visited = [False for _ in range(self.vertex_count)]\n",
    "        result = [np.inf] * self.vertex_count\n",
    "        result[0] = 0\n",
    "        \n",
    "        while current_vertex != None:\n",
    "            verts_list = self.get_adjacent_v(current_vertex)\n",
    "            for adjacent_v in verts_list:\n",
    "                if not visited[adjacent_v]:\n",
    "                    weight = result[current_vertex] + self.graph[current_vertex][adjacent_v]\n",
    "                    result[adjacent_v] = min(weight, result[adjacent_v])\n",
    "            \n",
    "            current_vertex = self.get_next_vertex(result, visited)\n",
    "            if current_vertex != None:\n",
    "                visited[current_vertex] = True\n",
    "                \n",
    "        \n",
    "        return result"
   ]
  },
  {
   "cell_type": "code",
   "execution_count": 4,
   "id": "a3bdd01d",
   "metadata": {},
   "outputs": [
    {
     "name": "stdout",
     "output_type": "stream",
     "text": [
      "Result:\n"
     ]
    },
    {
     "data": {
      "text/plain": [
       "[0, 3, 1, 3, 8, 5]"
      ]
     },
     "execution_count": 4,
     "metadata": {},
     "output_type": "execute_result"
    }
   ],
   "source": [
    "graph = [\n",
    "    [0, 3, 1, 3, 0, 0],\n",
    "    [3, 0, 4, 0, 0, 0],\n",
    "    [1, 4, 0, 0, 7, 5],\n",
    "    [3, 0, 0, 0, 0, 2],\n",
    "    [0, 0, 7, 0, 0, 4],\n",
    "    [0, 0, 5, 2, 4, 0],\n",
    "]\n",
    "\n",
    "solver = DijkstraSolver(graph)\n",
    "print('Result:')\n",
    "solver.solve()"
   ]
  },
  {
   "cell_type": "code",
   "execution_count": 5,
   "id": "3738b63f",
   "metadata": {},
   "outputs": [
    {
     "name": "stdout",
     "output_type": "stream",
     "text": [
      "Result:\n"
     ]
    },
    {
     "data": {
      "text/plain": [
       "[0, 1, 3, 4]"
      ]
     },
     "execution_count": 5,
     "metadata": {},
     "output_type": "execute_result"
    }
   ],
   "source": [
    "graph = [\n",
    "    [0, 1, 4, 0],\n",
    "    [0, 0, 2, 0],\n",
    "    [0, 3, 0, 1],\n",
    "    [0, 0, 0, 0],\n",
    "]\n",
    "\n",
    "solver = DijkstraSolver(graph)\n",
    "print('Result:')\n",
    "solver.solve()"
   ]
  },
  {
   "cell_type": "code",
   "execution_count": 6,
   "id": "a0ee0a11",
   "metadata": {},
   "outputs": [
    {
     "name": "stdout",
     "output_type": "stream",
     "text": [
      "Result:\n"
     ]
    },
    {
     "data": {
      "text/plain": [
       "[0, inf, inf, inf]"
      ]
     },
     "execution_count": 6,
     "metadata": {},
     "output_type": "execute_result"
    }
   ],
   "source": [
    "graph = [\n",
    "    [0, 0, 0, 0],\n",
    "    [0, 0, 0, 0],\n",
    "    [0, 0, 0, 0],\n",
    "    [0, 0, 0, 0],\n",
    "]\n",
    "\n",
    "solver = DijkstraSolver(graph)\n",
    "print('Result:')\n",
    "solver.solve()"
   ]
  },
  {
   "cell_type": "code",
   "execution_count": null,
   "id": "8015d43e",
   "metadata": {},
   "outputs": [],
   "source": []
  }
 ],
 "metadata": {
  "kernelspec": {
   "display_name": "Python 3 (ipykernel)",
   "language": "python",
   "name": "python3"
  },
  "language_info": {
   "codemirror_mode": {
    "name": "ipython",
    "version": 3
   },
   "file_extension": ".py",
   "mimetype": "text/x-python",
   "name": "python",
   "nbconvert_exporter": "python",
   "pygments_lexer": "ipython3",
   "version": "3.9.7"
  }
 },
 "nbformat": 4,
 "nbformat_minor": 5
}
