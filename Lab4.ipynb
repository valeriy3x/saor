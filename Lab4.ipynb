{
 "cells": [
  {
   "cell_type": "code",
   "execution_count": 14,
   "id": "c98a70a5",
   "metadata": {},
   "outputs": [],
   "source": [
    "import numpy as np\n",
    "from copy import deepcopy\n",
    "from collections import defaultdict"
   ]
  },
  {
   "cell_type": "code",
   "execution_count": 15,
   "id": "fad6bcaf",
   "metadata": {},
   "outputs": [],
   "source": [
    "class Graph:\n",
    "    def __init__(self, vertices):\n",
    "        self.graph = defaultdict(list) \n",
    "        self.V = vertices \n",
    "  \n",
    "    def add_edge(self, u, v, length):\n",
    "        self.graph[u].append((v, length))\n",
    "        \n",
    "    def get_edge_length(self, start, end):\n",
    "        if start == end:\n",
    "            return 0\n",
    "        \n",
    "        for item in self.graph[start]:\n",
    "            if item[0] == end:\n",
    "                return item[1]\n",
    "            \n",
    "        return np.inf\n",
    "  \n",
    "    def topological_sort_util(self, v, visited, stack):\n",
    "        visited[v] = True\n",
    "\n",
    "        for i in self.graph[v]:\n",
    "            if visited[i[0]] == False:\n",
    "                self.topological_sort_util(i[0], visited, stack)\n",
    "  \n",
    "        stack.insert(0, v)\n",
    "  \n",
    "    def topological_sort(self):\n",
    "        visited = dict()\n",
    "        for i in self.V:\n",
    "            visited[i] = False\n",
    "\n",
    "        stack = []\n",
    "        gr = deepcopy(self.graph)\n",
    "  \n",
    "        for index, item in enumerate(gr):\n",
    "            if visited[item] == False:\n",
    "                self.topological_sort_util(item, visited, stack)\n",
    "  \n",
    "        return stack\n",
    "    \n",
    "\n",
    "class PathSolver:\n",
    "    def solve(self, graph: Graph, start, end):\n",
    "        sorted_graph = graph.topological_sort()\n",
    "        \n",
    "        try:\n",
    "            start_index = sorted_graph.index(start)\n",
    "            end_index = sorted_graph.index(end)\n",
    "        except ValueError:\n",
    "            return 'No path'\n",
    "        \n",
    "        if end_index < start_index:\n",
    "            return 'No path'\n",
    "        \n",
    "        arr = sorted_graph[start_index:end_index + 1]\n",
    "        length_arr = []\n",
    "        _sum = 0\n",
    "        \n",
    "        length_arr.append(_sum)\n",
    "        current_index = 1\n",
    "        prev_index = 0\n",
    "        while current_index < len(arr): \n",
    "            current_length = graph.get_edge_length(arr[prev_index], arr[current_index])\n",
    "            if current_length != np.inf:\n",
    "                _sum += current_length\n",
    "                prev_index = current_index\n",
    "                length_arr.append(_sum)\n",
    "            else:\n",
    "                length_arr.append(current_length)\n",
    "                \n",
    "            current_index += 1\n",
    "            \n",
    "        B = filter(lambda x: x[1] != np.inf, zip(arr, length_arr))\n",
    "        \n",
    "        out_arr, out_length = [], []\n",
    "        \n",
    "        for item in [*B]:\n",
    "            out_arr.append(item[0])\n",
    "            out_length.append(item[1])\n",
    "        \n",
    "        return out_arr, out_length, length_arr[-1]"
   ]
  },
  {
   "cell_type": "code",
   "execution_count": 16,
   "id": "b3e5c158",
   "metadata": {},
   "outputs": [
    {
     "name": "stdout",
     "output_type": "stream",
     "text": [
      "Path: s -> a -> c -> d -> b -> t\n",
      "Length array: [0, 2, 4, 5, 7, 8]\n",
      "Path length: 8\n"
     ]
    }
   ],
   "source": [
    "g = Graph(['s', 'a', 'b', 'c', 'd', 'p', 't'])\n",
    "g.add_edge('p', 'b', 1)\n",
    "g.add_edge('s', 'a', 2)\n",
    "g.add_edge('s', 'c', 1)\n",
    "g.add_edge('a', 'b', 1)\n",
    "g.add_edge('c', 'd', 1)\n",
    "g.add_edge('a', 'c', 2)\n",
    "g.add_edge('d', 'b', 2)\n",
    "g.add_edge('b', 't', 1)\n",
    "g.add_edge('d', 't', 1)\n",
    "\n",
    "  \n",
    "solver = PathSolver()\n",
    "result = solver.solve(g, 's', 't')\n",
    "\n",
    "if isinstance(result, str):\n",
    "    print(result)\n",
    "else:\n",
    "    path, length_arr, total_length = result\n",
    "    path_out = ' -> '.join(path)\n",
    "    \n",
    "    print(f'Path: {path_out}')\n",
    "    print(f'Length array: {length_arr}')\n",
    "    print(f'Path length: {total_length}')"
   ]
  },
  {
   "cell_type": "code",
   "execution_count": 17,
   "id": "176b3d2c",
   "metadata": {},
   "outputs": [
    {
     "name": "stdout",
     "output_type": "stream",
     "text": [
      "No path\n"
     ]
    }
   ],
   "source": [
    "g= Graph(['s', 'a', 'b', 'c'])\n",
    "# g.add_edge('s', 'a', 1)\n",
    "# g.add_edge('a', 'b', 1)\n",
    "# g.add_edge('a', 'c', 4)\n",
    "# g.add_edge('b', 'c', 1)\n",
    "\n",
    "solver = PathSolver()\n",
    "result = solver.solve(g, 's', 'c')\n",
    "\n",
    "if isinstance(result, str):\n",
    "    print(result)\n",
    "else:\n",
    "    path, length_arr, total_length = result\n",
    "    path_out = ' -> '.join(path)\n",
    "    \n",
    "    print(f'Path: {path_out}')\n",
    "    print(f'Length array: {length_arr}')\n",
    "    print(f'Path length: {total_length}')"
   ]
  },
  {
   "cell_type": "code",
   "execution_count": null,
   "id": "e44702d1",
   "metadata": {},
   "outputs": [],
   "source": [
    "g = Graph([])"
   ]
  }
 ],
 "metadata": {
  "kernelspec": {
   "display_name": "Python 3 (ipykernel)",
   "language": "python",
   "name": "python3"
  },
  "language_info": {
   "codemirror_mode": {
    "name": "ipython",
    "version": 3
   },
   "file_extension": ".py",
   "mimetype": "text/x-python",
   "name": "python",
   "nbconvert_exporter": "python",
   "pygments_lexer": "ipython3",
   "version": "3.9.7"
  }
 },
 "nbformat": 4,
 "nbformat_minor": 5
}
