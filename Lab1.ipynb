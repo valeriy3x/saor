{
 "cells": [
  {
   "cell_type": "code",
   "execution_count": null,
   "id": "bb53898d",
   "metadata": {},
   "outputs": [],
   "source": []
  },
  {
   "cell_type": "code",
   "execution_count": 3,
   "id": "1fa532d0",
   "metadata": {},
   "outputs": [
    {
     "name": "stdout",
     "output_type": "stream",
     "text": [
      "Optimal solution:  [1. 2.]\n",
      "Sum:  3.0\n",
      "Tasks solved:  9\n"
     ]
    }
   ],
   "source": [
    "import numpy as np\n",
    "from scipy.optimize import linprog\n",
    "\n",
    "def is_integer(x, eps):\n",
    "    return abs(x - round(x)) <= eps\n",
    "\n",
    "def solve(A, b, c, lb, ub, eps):\n",
    "    tasks_solved = 0\n",
    "    stack = [(A, b, c, lb, ub)]\n",
    "    optimal_solution = None\n",
    "    fun_value = -np.inf\n",
    "\n",
    "    while True:\n",
    "        try:\n",
    "            A, b, c, lb, ub = stack.pop()\n",
    "        except IndexError:\n",
    "            break\n",
    "        \n",
    "        solution = linprog(\n",
    "            c=-c,\n",
    "            A_ub=A,\n",
    "            b_ub=b,\n",
    "            bounds=list(zip(lb, ub)),\n",
    "            method='simplex'\n",
    "        )\n",
    "        tasks_solved += 1\n",
    "\n",
    "        if solution.success:\n",
    "            solution_x = solution.x\n",
    "            solution_sum = -solution.fun\n",
    "\n",
    "            if all(list(map(lambda x: is_integer(x, eps), solution_x))) and solution_sum > fun_value:\n",
    "                optimal_solution = solution_x\n",
    "                fun_value = solution_sum\n",
    "            else:\n",
    "                for i, component in enumerate(solution_x):\n",
    "                    if not is_integer(component, eps) and solution_sum > fun_value:\n",
    "                        modified_lb = np.copy(lb)\n",
    "                        modified_ub = np.copy(ub)\n",
    "                        modified_ub[i] = int(component)\n",
    "                        modified_lb[i] = int(component) + 1\n",
    "\n",
    "                        stack.append((A, b, c, lb, modified_ub))\n",
    "                        stack.append((A, b, c, modified_lb, ub))\n",
    "\n",
    "\n",
    "    if optimal_solution is None:\n",
    "        print('No solution')\n",
    "\n",
    "    print('Optimal solution: ', optimal_solution)\n",
    "    print('Sum: ', fun_value)\n",
    "    print('Tasks solved: ', tasks_solved)\n",
    "\n",
    "\n",
    "A = np.array([\n",
    "    [4, 3],\n",
    "    [-4, 3]\n",
    "])\n",
    "b = np.array([22, 2])\n",
    "c = np.array([-5, 4])\n",
    "lb = np.array([1, 0])\n",
    "ub = np.array([4, 5])\n",
    "\n",
    "# A = np.array([\n",
    "#     [5, 4, -2],\n",
    "#     [5, -2, 4]\n",
    "# ])\n",
    "# b = np.array([6, 6])\n",
    "# c = np.array([20, 2, 2])\n",
    "# lb = np.array([0, 0, 0])\n",
    "# ub = np.array([4, 4, 4])\n",
    "\n",
    "solve(A, b, c, lb, ub, 10 ** (-10))\n"
   ]
  },
  {
   "cell_type": "code",
   "execution_count": null,
   "id": "bf2b8ca0",
   "metadata": {},
   "outputs": [],
   "source": []
  },
  {
   "cell_type": "code",
   "execution_count": null,
   "id": "c6aadd0b",
   "metadata": {},
   "outputs": [],
   "source": []
  },
  {
   "cell_type": "code",
   "execution_count": null,
   "id": "6efe0986",
   "metadata": {},
   "outputs": [],
   "source": []
  },
  {
   "cell_type": "code",
   "execution_count": null,
   "id": "206fb0fc",
   "metadata": {},
   "outputs": [],
   "source": []
  },
  {
   "cell_type": "code",
   "execution_count": null,
   "id": "132654be",
   "metadata": {},
   "outputs": [],
   "source": []
  },
  {
   "cell_type": "code",
   "execution_count": null,
   "id": "56f4f5bc",
   "metadata": {},
   "outputs": [],
   "source": []
  },
  {
   "cell_type": "code",
   "execution_count": null,
   "id": "2579b3aa",
   "metadata": {},
   "outputs": [],
   "source": []
  },
  {
   "cell_type": "code",
   "execution_count": null,
   "id": "3b7a02ac",
   "metadata": {},
   "outputs": [],
   "source": []
  },
  {
   "cell_type": "code",
   "execution_count": null,
   "id": "ab368074",
   "metadata": {},
   "outputs": [],
   "source": []
  },
  {
   "cell_type": "code",
   "execution_count": null,
   "id": "3ce27346",
   "metadata": {},
   "outputs": [],
   "source": []
  },
  {
   "cell_type": "code",
   "execution_count": null,
   "id": "4a6222d3",
   "metadata": {},
   "outputs": [],
   "source": []
  },
  {
   "cell_type": "code",
   "execution_count": null,
   "id": "6c1efc4d",
   "metadata": {},
   "outputs": [],
   "source": []
  },
  {
   "cell_type": "code",
   "execution_count": null,
   "id": "a486010e",
   "metadata": {},
   "outputs": [],
   "source": []
  },
  {
   "cell_type": "code",
   "execution_count": null,
   "id": "b0c71b4e",
   "metadata": {},
   "outputs": [],
   "source": []
  },
  {
   "cell_type": "code",
   "execution_count": 1,
   "id": "8c007018",
   "metadata": {},
   "outputs": [],
   "source": [
    "import numpy as np\n",
    "from scipy.optimize import linprog"
   ]
  },
  {
   "cell_type": "code",
   "execution_count": 2,
   "id": "d726d18c",
   "metadata": {},
   "outputs": [],
   "source": [
    "class Task:\n",
    "    def __init__(self, A, b, c, lb, ub):\n",
    "        self.A = A\n",
    "        self.b = b\n",
    "        self.c = c\n",
    "        self.lb = lb\n",
    "        self.ub = ub\n"
   ]
  },
  {
   "cell_type": "code",
   "execution_count": 31,
   "id": "795b8fe4",
   "metadata": {},
   "outputs": [],
   "source": [
    "def interation():\n",
    "    pass\n",
    "\n",
    "def branch_and_bound(main_task: Task):\n",
    "    stack = [main_task]\n",
    "    best_solution = None\n",
    "    max_value = -np.inf\n",
    "    \n",
    "    while len(stack) != 0:\n",
    "        current_task = stack.pop()\n",
    "        \n",
    "        simplex_res = linprog(\n",
    "            method='simplex',\n",
    "            c = -current_task.c,\n",
    "            b_ub = current_task.b,\n",
    "            A_ub = current_task.A,\n",
    "            bounds = list(zip(current_task.lb, current_task.ub))\n",
    "        )\n",
    "        if simplex_res.status == 0:\n",
    "            real_solution = simplex_res.x\n",
    "            current_sum = -simplex_res.fun\n",
    "            \n",
    "            if all(val.is_integer() for val in real_solution) and current_sum > max_value:\n",
    "                best_solution = real_solution\n",
    "                max_value = current_sum\n",
    "            else:\n",
    "                for index, item in enumerate(real_solution):\n",
    "                    if not item.is_integer() and current_sum > max_value:\n",
    "                        modified_lb = np.copy(current_task.lb)\n",
    "                        modified_ub = np.copy(current_task.ub)\n",
    "                        modified_ub[index] = int(item)\n",
    "                        modified_lb[index] = int(item) + 1\n",
    "\n",
    "                        stack.append(Task(current_task.A, current_task.b, current_task.c, current_task.lb, modified_ub))\n",
    "                        stack.append(Task(current_task.A, current_task.b, current_task.c, modified_lb, current_task.ub))\n",
    "                \n",
    "            \n",
    "        elif simplex_res.status == 2:\n",
    "            print('Problem is infeasible.')\n",
    "            return None\n",
    "        elif simplex_res.status == 3:\n",
    "            print('Problem is unbounded')\n",
    "            return None\n",
    "        \n",
    "    return best_solution"
   ]
  },
  {
   "cell_type": "code",
   "execution_count": 32,
   "id": "411a5763",
   "metadata": {},
   "outputs": [],
   "source": [
    "A = np.array([\n",
    "    [4, 3],\n",
    "    [-4, 3]\n",
    "])\n",
    "b = np.array([22, 2])\n",
    "c = np.array([-5, 4])\n",
    "lb = np.array([1, 0])\n",
    "ub = np.array([4, 5])\n",
    "\n",
    "main_task = Task(A, b, c, lb, ub)"
   ]
  },
  {
   "cell_type": "code",
   "execution_count": 33,
   "id": "96d55ac5",
   "metadata": {},
   "outputs": [
    {
     "name": "stdout",
     "output_type": "stream",
     "text": [
      "Solution:\n",
      "Problem is infeasible.\n",
      "None\n"
     ]
    }
   ],
   "source": [
    "print('Solution:')\n",
    "\n",
    "print(branch_and_bound(main_task))"
   ]
  },
  {
   "cell_type": "code",
   "execution_count": null,
   "id": "5d805a7a",
   "metadata": {},
   "outputs": [],
   "source": []
  }
 ],
 "metadata": {
  "kernelspec": {
   "display_name": "Python 3 (ipykernel)",
   "language": "python",
   "name": "python3"
  },
  "language_info": {
   "codemirror_mode": {
    "name": "ipython",
    "version": 3
   },
   "file_extension": ".py",
   "mimetype": "text/x-python",
   "name": "python",
   "nbconvert_exporter": "python",
   "pygments_lexer": "ipython3",
   "version": "3.9.7"
  }
 },
 "nbformat": 4,
 "nbformat_minor": 5
}
