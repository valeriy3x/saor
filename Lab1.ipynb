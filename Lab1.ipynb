{
 "cells": [
  {
   "cell_type": "code",
   "execution_count": 15,
   "id": "8c007018",
   "metadata": {},
   "outputs": [],
   "source": [
    "import numpy as np\n",
    "from scipy.optimize import linprog"
   ]
  },
  {
   "cell_type": "code",
   "execution_count": 16,
   "id": "d726d18c",
   "metadata": {},
   "outputs": [],
   "source": [
    "class Task:\n",
    "    def __init__(self, A, b, c, lb, ub):\n",
    "        self.A = A\n",
    "        self.b = b\n",
    "        self.c = c\n",
    "        self.lb = lb\n",
    "        self.ub = ub\n",
    "\n",
    "    @staticmethod\n",
    "    def compose_from_task(task):\n",
    "        return Task(task.A, task.b, task.c, task.lb, task.ub)"
   ]
  },
  {
   "cell_type": "code",
   "execution_count": 17,
   "id": "795b8fe4",
   "metadata": {},
   "outputs": [],
   "source": [
    "class BranchAndBound:\n",
    "    def __init__(self):\n",
    "        self.solution = None\n",
    "        self.f_value = -np.inf\n",
    "        self.stack = []\n",
    "\n",
    "    @staticmethod\n",
    "    def solve_task(task: Task):\n",
    "        return linprog(\n",
    "            method='simplex',\n",
    "            c=-task.c,\n",
    "            b_ub=task.b,\n",
    "            A_ub=task.A,\n",
    "            bounds=list(zip(task.lb, task.ub))\n",
    "        )\n",
    "\n",
    "    @staticmethod\n",
    "    def is_integer(x, eps=10 ** (-10)):\n",
    "        return abs(x - round(x)) <= eps\n",
    "\n",
    "    @staticmethod\n",
    "    def split_task(task: Task, index: int, item: float):\n",
    "        modified_lb = np.copy(task.lb)\n",
    "        modified_ub = np.copy(task.ub)\n",
    "        \n",
    "        sign = 1 if(item >= 0) else -1\n",
    "        modified_ub[index] = np.modf(item)[1]\n",
    "        modified_lb[index] = int(item) + sign\n",
    "\n",
    "        left_task = Task.compose_from_task(task)\n",
    "        left_task.ub = modified_ub\n",
    "\n",
    "        right_task = Task.compose_from_task(task)\n",
    "        right_task.lb = modified_lb\n",
    "\n",
    "        return left_task, right_task\n",
    "\n",
    "    def solve(self, task):\n",
    "        self.stack.append(task)\n",
    "\n",
    "        while len(self.stack) != 0:\n",
    "            current_task = self.stack.pop()\n",
    "\n",
    "            simplex_res = self.solve_task(current_task)\n",
    "\n",
    "            if simplex_res.status == 0:\n",
    "                real_solution = simplex_res.x\n",
    "                current_sum = -simplex_res.fun\n",
    "                if all(self.is_integer(val) for val in real_solution):\n",
    "                    if current_sum > self.f_value:\n",
    "                        self.solution = real_solution\n",
    "                        self.f_value = current_sum\n",
    "                else:\n",
    "                    for index, item in enumerate(real_solution):\n",
    "                        if not self.is_integer(item) and current_sum > self.f_value:\n",
    "                            left_task, right_task = self.split_task(current_task, index, item)\n",
    "                            self.stack.append(left_task)\n",
    "                            self.stack.append(right_task)\n",
    "\n",
    "        return self.solution, self.f_value\n"
   ]
  },
  {
   "cell_type": "code",
   "execution_count": 18,
   "id": "411a5763",
   "metadata": {},
   "outputs": [],
   "source": [
    "A = np.array([\n",
    "    [4, 3],\n",
    "    [-4, 3]\n",
    "])\n",
    "b = np.array([22, 2])\n",
    "c = np.array([-5, 4])\n",
    "lb = np.array([1, 0])\n",
    "ub = np.array([4, 5])\n",
    "\n",
    "main_task = Task(A, b, c, lb, ub)"
   ]
  },
  {
   "cell_type": "code",
   "execution_count": 19,
   "id": "96d55ac5",
   "metadata": {
    "pycharm": {
     "name": "#%%\n"
    }
   },
   "outputs": [
    {
     "name": "stdout",
     "output_type": "stream",
     "text": [
      "Result:\n",
      "Solution x: (1, 2)\n",
      "Max target function value: 3.0\n"
     ]
    }
   ],
   "source": [
    "branch_and_bound_solver = BranchAndBound()\n",
    "sol, res = branch_and_bound_solver.solve(main_task)\n",
    "\n",
    "formatted_sol = ', '.join(map(str, map(int, sol)))\n",
    "print('Result:')\n",
    "print('Solution x: ', end='')\n",
    "print(f'({formatted_sol})')\n",
    "print(f'Max target function value: {res}')"
   ]
  },
  {
   "cell_type": "code",
   "execution_count": null,
   "id": "46681138",
   "metadata": {},
   "outputs": [],
   "source": []
  }
 ],
 "metadata": {
  "kernelspec": {
   "display_name": "Python 3 (ipykernel)",
   "language": "python",
   "name": "python3"
  },
  "language_info": {
   "codemirror_mode": {
    "name": "ipython",
    "version": 3
   },
   "file_extension": ".py",
   "mimetype": "text/x-python",
   "name": "python",
   "nbconvert_exporter": "python",
   "pygments_lexer": "ipython3",
   "version": "3.9.7"
  }
 },
 "nbformat": 4,
 "nbformat_minor": 5
}
