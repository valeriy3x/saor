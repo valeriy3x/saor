{
 "cells": [
  {
   "cell_type": "code",
   "execution_count": 5,
   "id": "4c177049",
   "metadata": {},
   "outputs": [],
   "source": [
    "import numpy as np\n",
    "from copy import deepcopy"
   ]
  },
  {
   "cell_type": "code",
   "execution_count": 6,
   "id": "3cd67102",
   "metadata": {},
   "outputs": [],
   "source": [
    "class FordFulkersonSolver:\n",
    "    def __init__(self, graph):\n",
    "        self.graph = graph\n",
    "    \n",
    "    @staticmethod\n",
    "    def bfs(graph, start, sink, parent):\n",
    "        visited = [False for _ in range(len(graph))]\n",
    "        \n",
    "        queue = [start]\n",
    "        visited[start] = True\n",
    "        parent[start] = -1\n",
    "        \n",
    "        while len(queue) > 0:\n",
    "            current_vertex = queue.pop(0)\n",
    "            \n",
    "            for vertex in range(len(graph)):\n",
    "                if visited[vertex] == False and graph[current_vertex][vertex] > 0:\n",
    "                    queue.append(vertex)\n",
    "                    parent[vertex] = current_vertex\n",
    "                    visited[vertex] = True\n",
    "            \n",
    "        return visited[sink]\n",
    "        \n",
    "        \n",
    "    \n",
    "    def solve(self, source, sink):\n",
    "        max_flow = 0\n",
    "        parent = [0 for _ in range(len(graph))]\n",
    "        vertex_i, vertex_j = 0, 0\n",
    "        \n",
    "        \n",
    "        residual_graph = deepcopy(self.graph)\n",
    "        \n",
    "        while self.bfs(residual_graph, source, sink, parent):\n",
    "            bottleneck_flow = np.inf\n",
    "            \n",
    "            vertex_j = sink\n",
    "            while vertex_j != source:\n",
    "                vertex_i = parent[vertex_j]\n",
    "                bottleneck_flow = min(bottleneck_flow, residual_graph[vertex_i][vertex_j])\n",
    "\n",
    "                vertex_j = parent[vertex_j]\n",
    "                \n",
    "            vertex_j = sink\n",
    "            while vertex_j != source:\n",
    "                vertex_i = parent[vertex_j]\n",
    "                \n",
    "                residual_graph[vertex_i][vertex_j] -= bottleneck_flow\n",
    "                residual_graph[vertex_j][vertex_i] += bottleneck_flow\n",
    "                vertex_j = parent[vertex_j]\n",
    "            \n",
    "            \n",
    "            max_flow += bottleneck_flow\n",
    "            \n",
    "        return max_flow"
   ]
  },
  {
   "cell_type": "code",
   "execution_count": 7,
   "id": "a13c4426",
   "metadata": {},
   "outputs": [
    {
     "name": "stdout",
     "output_type": "stream",
     "text": [
      "Max flow: 28\n"
     ]
    }
   ],
   "source": [
    "graph = [\n",
    "    [0, 10, 5, 15, 0, 0, 0, 0],\n",
    "    [0, 0, 4, 0, 9, 15, 0, 0],\n",
    "    [0, 0, 0, 4, 0, 8, 0, 0],\n",
    "    [0, 0, 0, 0, 0, 0, 30, 0],\n",
    "    [0, 0, 0, 0, 0, 15, 0, 10],\n",
    "    [0, 0, 0, 0, 0, 0, 15, 10],\n",
    "    [0, 0, 6, 0, 0, 0, 0, 10],\n",
    "    [0, 0, 0, 0, 0, 0, 0, 0]\n",
    "]\n",
    "\n",
    "\n",
    "solver = FordFulkersonSolver(graph)\n",
    "max_flow = solver.solve(0, 7)\n",
    "\n",
    "print(f'Max flow: {max_flow}')"
   ]
  },
  {
   "cell_type": "code",
   "execution_count": 8,
   "id": "26e877bd",
   "metadata": {},
   "outputs": [
    {
     "name": "stdout",
     "output_type": "stream",
     "text": [
      "Max flow: 90\n"
     ]
    }
   ],
   "source": [
    "graph = [\n",
    "    [0, 30, 40, 20, 0],\n",
    "    [0, 0, 50, 0, 40],\n",
    "    [0, 0, 0, 20, 30],\n",
    "    [0, 0, 0, 0, 30],\n",
    "    [0, 0, 0, 0, 0]\n",
    "]\n",
    "\n",
    "\n",
    "solver = FordFulkersonSolver(graph)\n",
    "max_flow = solver.solve(0, 4)\n",
    "\n",
    "print(f'Max flow: {max_flow}')"
   ]
  },
  {
   "cell_type": "code",
   "execution_count": null,
   "id": "817f0cb3",
   "metadata": {},
   "outputs": [],
   "source": []
  }
 ],
 "metadata": {
  "kernelspec": {
   "display_name": "Python 3 (ipykernel)",
   "language": "python",
   "name": "python3"
  },
  "language_info": {
   "codemirror_mode": {
    "name": "ipython",
    "version": 3
   },
   "file_extension": ".py",
   "mimetype": "text/x-python",
   "name": "python",
   "nbconvert_exporter": "python",
   "pygments_lexer": "ipython3",
   "version": "3.9.7"
  }
 },
 "nbformat": 4,
 "nbformat_minor": 5
}
